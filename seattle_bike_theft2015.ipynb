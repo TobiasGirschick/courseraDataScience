{
 "cells": [
  {
   "cell_type": "markdown",
   "metadata": {},
   "source": [
    "# Seattle bike thieves mainly work in broad daylight (2015)\n",
    "\n",
    "## Coursera Data Science at Scale - Assignment 6\n",
    "\n",
    "With this report I want to show that bike theft incidents in Seattle don't happen mainly at night and that they happen in central areas!\n",
    "\n",
    "Instead of using the given overall crime data of summer '14 in Seattle I decided to do an analysis of bike theft in Seattle in 2015 (01/01/2015 - 31/12/2015). The data was downloaded as CSV from \n",
    "https://data.seattle.gov/Public-Safety/Seattle-Police-Department-Police-Report-Incident/7ais-f98f\n",
    "\n",
    "The filtering was done based on the date and on the *offense code* (=2399). We still have to filter for *offense code extension* (= 1) to get only bike theft. This could have been done in the online form of seattle.gov but I decided to use it as a small excercise with Python and Pandas and keep a little bit of discardable data. Column headers were modified so that they don't contain whitespaces or slashes\n",
    "\n",
    "The Questions I wanted to answer on my way are:\n",
    "1. Which month is the most dangerous for your bike (danger meaning your bike will be stolen)?\n",
    "2. Which time of the day is the most dangerous for your bike?\n",
    "3. Which area of Seattle is the most dangerous for your bike?\n",
    "\n",
    "To answer those questions I used Python with matplotlib as well as Pandas for csv file I/O and data handling.\n",
    "\n",
    "The available columns in the CSV file are the following (with relevant columns in *italic* print):\n",
    "\n",
    "| Column Name | Example entry |\n",
    "|-------------|--------------:|\n",
    "| RMS_CDW_ID  | 329716 |\n",
    "| General_Offense_Number | 201517547 |\n",
    "| Offense_Code | 2399 |\n",
    "| *Offense_Code_Extension* | *3* |\n",
    "| Offense_Type | THEFT-OTH |\n",
    "| Summary_Offense_Code | 2300 |\n",
    "| Summarized_Offense_Description | OTHER PROPERTY |\n",
    "| Date_Reported | 01/16/2015 02:30:00 PM |\n",
    "| *Occurred_Date_or_Date_Range_Start* | *01/15/2015 07:19:00 AM*|\n",
    "| Occurred_Date_Range_End | |\n",
    "| Hundred_Block_Location | 19XX BLOCK OF N 46 ST |\n",
    "| *District_Sector* | *B*|\n",
    "| Zone_Beat | B3 |\n",
    "| Census_Tract 2000 | 5100.1022 |\n",
    "| Longitude | -122.334455598 |\n",
    "| Latitude | 47.66212706 |\n",
    "| Location | \"(47.66212706, -122.334455598)\" |\n",
    "| *Month* | *1* |\n",
    "| Year | 2015 |"
   ]
  },
  {
   "cell_type": "code",
   "execution_count": 2,
   "metadata": {
    "collapsed": true
   },
   "outputs": [],
   "source": [
    "import pandas as pd\n",
    "import matplotlib.pyplot as plt\n",
    "import numpy as np\n",
    "import csv"
   ]
  },
  {
   "cell_type": "code",
   "execution_count": 3,
   "metadata": {
    "collapsed": false
   },
   "outputs": [],
   "source": [
    "# create reader and load data\n",
    "f = \"seattle_incidents_2015_2399.csv\"\n",
    "df = pd.read_csv(f, header=0, delimiter=\",\", quoting=csv.QUOTE_MINIMAL)\n",
    "\n",
    "# remove data that is not bike theft\n",
    "df = df[df['Offense_Code_Extension'] == 1]"
   ]
  },
  {
   "cell_type": "code",
   "execution_count": 4,
   "metadata": {
    "collapsed": false
   },
   "outputs": [],
   "source": [
    "# create a barchart with counts for each month\n",
    "bins = [0,1.1,2.1,3.1,4.1,5.1,6.1,7.1,8.1,9.1,10.1,11.1,12.1]\n",
    "plt.hist(df.Month.values, bins, histtype='bar', rwidth=0.8)\n",
    "plt.xlabel(\"month\")\n",
    "plt.ylabel(\"bike theft count\")\n",
    "plt.savefig(\"biketheftpermonth.png\")\n",
    "#plt.show()\n",
    "plt.clf()"
   ]
  },
  {
   "cell_type": "markdown",
   "metadata": {},
   "source": [
    "![histogram of bike theft incidents per month](biketheftpermonth.png)\n",
    "\n",
    "The plot shows that May is the month that has the most recorded bike theft incidents in 2015 closely followed by July and June. This is more or less what you would expect as in the summer months also more people will use their bikes."
   ]
  },
  {
   "cell_type": "code",
   "execution_count": 8,
   "metadata": {
    "collapsed": true
   },
   "outputs": [],
   "source": [
    "# parse datetime 01/16/2015 02:30:00 PM and read hour values\n",
    "from datetime import datetime\n",
    "timeformat = '%m/%d/%Y %I:%M:%S %p'\n",
    "#datetime.strptime(df['Occurred_Date_or_Date_Range_Start'],timeformat)\n",
    "hours = []\n",
    "for timestring in df['Occurred_Date_or_Date_Range_Start'].values:\n",
    "    dt = datetime.strptime(timestring.lower(),timeformat)\n",
    "    hours.append(dt.hour)"
   ]
  },
  {
   "cell_type": "code",
   "execution_count": 13,
   "metadata": {
    "collapsed": true
   },
   "outputs": [],
   "source": [
    "# plot distribution of bike theft incidents per hour\n",
    "plt.hist(hours, bins=24)\n",
    "plt.xlabel(\"hour\")\n",
    "plt.ylabel(\"bike theft count\")\n",
    "plt.savefig(\"biketheftperhour.png\")\n",
    "#plt.show()\n",
    "plt.clf()"
   ]
  },
  {
   "cell_type": "markdown",
   "metadata": {},
   "source": [
    "![histogram of bike theft incidents per hour of the day](biketheftperhour.png)\n",
    "\n",
    "The plot shows that the early evening hour after 5pm is the time of the day where the most bike theft incidents are reported. Other dangerous hours are the hour directly after midnight as one would expect and curiously the hour just before noon. Overall more bikes are stolen during the daylight hours than at night."
   ]
  },
  {
   "cell_type": "code",
   "execution_count": 14,
   "metadata": {
    "collapsed": true
   },
   "outputs": [],
   "source": [
    "# Add another histogram of the district_sector\n",
    "# now using the plot capability of pandas\n",
    "df[\"District_Sector\"].value_counts().plot.bar()\n",
    "plt.xlabel(\"Sector\")\n",
    "plt.ylabel(\"bike theft count\")\n",
    "plt.savefig(\"biketheftpersector.png\")\n",
    "#plt.show()\n",
    "plt.clf()"
   ]
  },
  {
   "cell_type": "markdown",
   "metadata": {},
   "source": [
    "![histogram of bike theft incidents per hour of the day](biketheftpersector.png)\n",
    "\n",
    "Obviously sector B, U and D are the sectors with the most bike incidents. \n",
    "Looking at the map (source: http://www.seattle.gov/police/maps/precinct_map.htm) of Seattle police precincts this corresponds to the northern central districts of Seattle.\n",
    "\n",
    "![map of seattle police districts](precinct_map.jpg)\n",
    "\n",
    "With Google fusion tables I mapped the locations of the incidents to the map of Seattle. Each point in the map corresponds to one bike theft incident. The higher density of points in the northern central part of Seattle nicely illustrates the finding of the histogram plot.\n",
    "\n",
    "![mapping of incidents to seattle map](seattleMap.PNG)"
   ]
  }
 ],
 "metadata": {
  "kernelspec": {
   "display_name": "Python 2",
   "language": "python",
   "name": "python2"
  },
  "language_info": {
   "codemirror_mode": {
    "name": "ipython",
    "version": 2
   },
   "file_extension": ".py",
   "mimetype": "text/x-python",
   "name": "python",
   "nbconvert_exporter": "python",
   "pygments_lexer": "ipython2",
   "version": "2.7.6"
  }
 },
 "nbformat": 4,
 "nbformat_minor": 0
}
